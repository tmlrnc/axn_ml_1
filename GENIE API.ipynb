{
 "cells": [
  {
   "cell_type": "code",
   "execution_count": 2,
   "metadata": {},
   "outputs": [],
   "source": [
    "# Genie API"
   ]
  },
  {
   "cell_type": "code",
   "execution_count": null,
   "metadata": {},
   "outputs": [],
   "source": [
    "python -m generate_discrete  \\\n",
    "  --file_in $file_name \\\n",
    "          --drop_column Admin2 \\\n",
    "                    --drop_column code3 \\\n",
    "                    --parent_dir $parent_dir \\\n",
    "          --drop_column iso3 \\\n",
    "          --drop_column iso2 \\\n",
    "          --drop_column Country_Region \\\n",
    "          --drop_column FIPS \\\n",
    "                    --drop_column Lat \\\n",
    "          --drop_column Long_ \\\n",
    "          --drop_column Population \\\n",
    "   --file_out_discrete time_series_covid19_deaths_US_V4000_v1_i_D.csv \\\n",
    "  --file_out time_series_covid19_deaths_US_V4000_v3_D.csv \\\n",
    "  --start_date_all 07/01/2020 \\\n",
    "  --end_date_all 07/15/2020 \\\n",
    "  --num_bins 4000 \\\n",
    "  --window_size 3 \\\n",
    "  --discrete_file_script_out covid_discrete_test_15.sh\n"
   ]
  }
 ],
 "metadata": {
  "kernelspec": {
   "display_name": "Python 3",
   "language": "python",
   "name": "python3"
  },
  "language_info": {
   "codemirror_mode": {
    "name": "ipython",
    "version": 3
   },
   "file_extension": ".py",
   "mimetype": "text/x-python",
   "name": "python",
   "nbconvert_exporter": "python",
   "pygments_lexer": "ipython3",
   "version": "3.7.2"
  }
 },
 "nbformat": 4,
 "nbformat_minor": 2
}
